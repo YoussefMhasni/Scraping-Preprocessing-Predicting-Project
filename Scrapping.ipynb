{
  "cells": [
    {
      "cell_type": "markdown",
      "metadata": {
        "id": "view-in-github",
        "colab_type": "text"
      },
      "source": [
        "<a href=\"https://colab.research.google.com/github/YoussefMhasni/Scraping-Preprocessing-Predicting-Project/blob/main/Scrapping.ipynb\" target=\"_parent\"><img src=\"https://colab.research.google.com/assets/colab-badge.svg\" alt=\"Open In Colab\"/></a>"
      ]
    },
    {
      "cell_type": "code",
      "execution_count": null,
      "metadata": {
        "colab": {
          "base_uri": "https://localhost:8080/"
        },
        "id": "2M69XvL8Vzxt",
        "outputId": "6c9fdee2-cb60-453d-b84e-91d4cb8c5a63"
      },
      "outputs": [
        {
          "name": "stdout",
          "output_type": "stream",
          "text": [
            "Collecting selenium\n",
            "  Downloading selenium-4.1.0-py3-none-any.whl (958 kB)\n",
            "\u001b[K     |████████████████████████████████| 958 kB 7.6 MB/s \n",
            "\u001b[?25hCollecting urllib3[secure]~=1.26\n",
            "  Downloading urllib3-1.26.8-py2.py3-none-any.whl (138 kB)\n",
            "\u001b[K     |████████████████████████████████| 138 kB 51.1 MB/s \n",
            "\u001b[?25hCollecting trio-websocket~=0.9\n",
            "  Downloading trio_websocket-0.9.2-py3-none-any.whl (16 kB)\n",
            "Collecting trio~=0.17\n",
            "  Downloading trio-0.19.0-py3-none-any.whl (356 kB)\n",
            "\u001b[K     |████████████████████████████████| 356 kB 60.5 MB/s \n",
            "\u001b[?25hCollecting async-generator>=1.9\n",
            "  Downloading async_generator-1.10-py3-none-any.whl (18 kB)\n",
            "Collecting outcome\n",
            "  Downloading outcome-1.1.0-py2.py3-none-any.whl (9.7 kB)\n",
            "Requirement already satisfied: idna in /usr/local/lib/python3.7/dist-packages (from trio~=0.17->selenium) (2.10)\n",
            "Requirement already satisfied: attrs>=19.2.0 in /usr/local/lib/python3.7/dist-packages (from trio~=0.17->selenium) (21.4.0)\n",
            "Requirement already satisfied: sortedcontainers in /usr/local/lib/python3.7/dist-packages (from trio~=0.17->selenium) (2.4.0)\n",
            "Collecting sniffio\n",
            "  Downloading sniffio-1.2.0-py3-none-any.whl (10 kB)\n",
            "Collecting wsproto>=0.14\n",
            "  Downloading wsproto-1.0.0-py3-none-any.whl (24 kB)\n",
            "Requirement already satisfied: certifi in /usr/local/lib/python3.7/dist-packages (from urllib3[secure]~=1.26->selenium) (2021.10.8)\n",
            "Collecting pyOpenSSL>=0.14\n",
            "  Downloading pyOpenSSL-22.0.0-py2.py3-none-any.whl (55 kB)\n",
            "\u001b[K     |████████████████████████████████| 55 kB 3.1 MB/s \n",
            "\u001b[?25hCollecting cryptography>=1.3.4\n",
            "  Downloading cryptography-36.0.1-cp36-abi3-manylinux_2_24_x86_64.whl (3.6 MB)\n",
            "\u001b[K     |████████████████████████████████| 3.6 MB 49.5 MB/s \n",
            "\u001b[?25hRequirement already satisfied: cffi>=1.12 in /usr/local/lib/python3.7/dist-packages (from cryptography>=1.3.4->urllib3[secure]~=1.26->selenium) (1.15.0)\n",
            "Requirement already satisfied: pycparser in /usr/local/lib/python3.7/dist-packages (from cffi>=1.12->cryptography>=1.3.4->urllib3[secure]~=1.26->selenium) (2.21)\n",
            "Collecting h11<1,>=0.9.0\n",
            "  Downloading h11-0.13.0-py3-none-any.whl (58 kB)\n",
            "\u001b[K     |████████████████████████████████| 58 kB 6.3 MB/s \n",
            "\u001b[?25hRequirement already satisfied: typing-extensions in /usr/local/lib/python3.7/dist-packages (from h11<1,>=0.9.0->wsproto>=0.14->trio-websocket~=0.9->selenium) (3.10.0.2)\n",
            "Installing collected packages: sniffio, outcome, h11, cryptography, async-generator, wsproto, urllib3, trio, pyOpenSSL, trio-websocket, selenium\n",
            "  Attempting uninstall: urllib3\n",
            "    Found existing installation: urllib3 1.24.3\n",
            "    Uninstalling urllib3-1.24.3:\n",
            "      Successfully uninstalled urllib3-1.24.3\n",
            "\u001b[31mERROR: pip's dependency resolver does not currently take into account all the packages that are installed. This behaviour is the source of the following dependency conflicts.\n",
            "requests 2.23.0 requires urllib3!=1.25.0,!=1.25.1,<1.26,>=1.21.1, but you have urllib3 1.26.8 which is incompatible.\n",
            "datascience 0.10.6 requires folium==0.2.1, but you have folium 0.8.3 which is incompatible.\u001b[0m\n",
            "Successfully installed async-generator-1.10 cryptography-36.0.1 h11-0.13.0 outcome-1.1.0 pyOpenSSL-22.0.0 selenium-4.1.0 sniffio-1.2.0 trio-0.19.0 trio-websocket-0.9.2 urllib3-1.26.8 wsproto-1.0.0\n"
          ]
        }
      ],
      "source": [
        "!pip install selenium\n"
      ]
    },
    {
      "cell_type": "code",
      "execution_count": null,
      "metadata": {
        "colab": {
          "base_uri": "https://localhost:8080/"
        },
        "id": "xHrDVK1RVxKy",
        "outputId": "7b149cba-184a-4748-979a-a368abcfe92a"
      },
      "outputs": [
        {
          "name": "stdout",
          "output_type": "stream",
          "text": [
            "Reading package lists... Done\n",
            "Building dependency tree       \n",
            "Reading state information... Done\n",
            "The following packages were automatically installed and are no longer required:\n",
            "  cuda-command-line-tools-10-0 cuda-command-line-tools-10-1\n",
            "  cuda-command-line-tools-11-0 cuda-compiler-10-0 cuda-compiler-10-1\n",
            "  cuda-compiler-11-0 cuda-cuobjdump-10-0 cuda-cuobjdump-10-1\n",
            "  cuda-cuobjdump-11-0 cuda-cupti-10-0 cuda-cupti-10-1 cuda-cupti-11-0\n",
            "  cuda-cupti-dev-11-0 cuda-documentation-10-0 cuda-documentation-10-1\n",
            "  cuda-documentation-11-0 cuda-documentation-11-1 cuda-gdb-10-0 cuda-gdb-10-1\n",
            "  cuda-gdb-11-0 cuda-gpu-library-advisor-10-0 cuda-gpu-library-advisor-10-1\n",
            "  cuda-libraries-10-0 cuda-libraries-10-1 cuda-libraries-11-0\n",
            "  cuda-memcheck-10-0 cuda-memcheck-10-1 cuda-memcheck-11-0 cuda-nsight-10-0\n",
            "  cuda-nsight-10-1 cuda-nsight-11-0 cuda-nsight-11-1 cuda-nsight-compute-10-0\n",
            "  cuda-nsight-compute-10-1 cuda-nsight-compute-11-0 cuda-nsight-compute-11-1\n",
            "  cuda-nsight-systems-10-1 cuda-nsight-systems-11-0 cuda-nsight-systems-11-1\n",
            "  cuda-nvcc-10-0 cuda-nvcc-10-1 cuda-nvcc-11-0 cuda-nvdisasm-10-0\n",
            "  cuda-nvdisasm-10-1 cuda-nvdisasm-11-0 cuda-nvml-dev-10-0 cuda-nvml-dev-10-1\n",
            "  cuda-nvml-dev-11-0 cuda-nvprof-10-0 cuda-nvprof-10-1 cuda-nvprof-11-0\n",
            "  cuda-nvprune-10-0 cuda-nvprune-10-1 cuda-nvprune-11-0 cuda-nvtx-10-0\n",
            "  cuda-nvtx-10-1 cuda-nvtx-11-0 cuda-nvvp-10-0 cuda-nvvp-10-1 cuda-nvvp-11-0\n",
            "  cuda-nvvp-11-1 cuda-samples-10-0 cuda-samples-10-1 cuda-samples-11-0\n",
            "  cuda-samples-11-1 cuda-sanitizer-11-0 cuda-sanitizer-api-10-1\n",
            "  cuda-toolkit-10-0 cuda-toolkit-10-1 cuda-toolkit-11-0 cuda-toolkit-11-1\n",
            "  cuda-tools-10-0 cuda-tools-10-1 cuda-tools-11-0 cuda-tools-11-1\n",
            "  cuda-visual-tools-10-0 cuda-visual-tools-10-1 cuda-visual-tools-11-0\n",
            "  cuda-visual-tools-11-1 default-jre dkms freeglut3 freeglut3-dev\n",
            "  keyboard-configuration libargon2-0 libcap2 libcryptsetup12\n",
            "  libdevmapper1.02.1 libfontenc1 libidn11 libip4tc0 libjansson4\n",
            "  libnvidia-cfg1-510 libnvidia-common-460 libnvidia-common-510\n",
            "  libnvidia-extra-510 libnvidia-fbc1-510 libnvidia-gl-510 libpam-systemd\n",
            "  libpolkit-agent-1-0 libpolkit-backend-1-0 libpolkit-gobject-1-0 libxfont2\n",
            "  libxi-dev libxkbfile1 libxmu-dev libxmu-headers libxnvctrl0\n",
            "  nsight-compute-2020.2.1 nsight-compute-2022.1.0 nsight-systems-2020.3.2\n",
            "  nsight-systems-2020.3.4 nsight-systems-2021.5.2 nvidia-dkms-510\n",
            "  nvidia-kernel-common-510 nvidia-kernel-source-510 nvidia-modprobe\n",
            "  nvidia-settings openjdk-11-jre policykit-1 policykit-1-gnome python3-xkit\n",
            "  screen-resolution-extra systemd systemd-sysv udev x11-xkb-utils\n",
            "  xserver-common xserver-xorg-core-hwe-18.04 xserver-xorg-video-nvidia-510\n",
            "Use 'apt autoremove' to remove them.\n",
            "The following additional packages will be installed:\n",
            "  chromium-browser chromium-browser-l10n chromium-codecs-ffmpeg-extra\n",
            "Suggested packages:\n",
            "  webaccounts-chromium-extension unity-chromium-extension\n",
            "The following NEW packages will be installed:\n",
            "  chromium-browser chromium-browser-l10n chromium-chromedriver\n",
            "  chromium-codecs-ffmpeg-extra\n",
            "0 upgraded, 4 newly installed, 0 to remove and 39 not upgraded.\n",
            "Need to get 95.3 MB of archives.\n",
            "After this operation, 327 MB of additional disk space will be used.\n",
            "Get:1 http://archive.ubuntu.com/ubuntu bionic-updates/universe amd64 chromium-codecs-ffmpeg-extra amd64 97.0.4692.71-0ubuntu0.18.04.1 [1,142 kB]\n",
            "Get:2 http://archive.ubuntu.com/ubuntu bionic-updates/universe amd64 chromium-browser amd64 97.0.4692.71-0ubuntu0.18.04.1 [84.7 MB]\n",
            "Get:3 http://archive.ubuntu.com/ubuntu bionic-updates/universe amd64 chromium-browser-l10n all 97.0.4692.71-0ubuntu0.18.04.1 [4,370 kB]\n",
            "Get:4 http://archive.ubuntu.com/ubuntu bionic-updates/universe amd64 chromium-chromedriver amd64 97.0.4692.71-0ubuntu0.18.04.1 [5,055 kB]\n",
            "Fetched 95.3 MB in 6s (15.8 MB/s)\n",
            "Selecting previously unselected package chromium-codecs-ffmpeg-extra.\n",
            "(Reading database ... 155113 files and directories currently installed.)\n",
            "Preparing to unpack .../chromium-codecs-ffmpeg-extra_97.0.4692.71-0ubuntu0.18.04.1_amd64.deb ...\n",
            "Unpacking chromium-codecs-ffmpeg-extra (97.0.4692.71-0ubuntu0.18.04.1) ...\n",
            "Selecting previously unselected package chromium-browser.\n",
            "Preparing to unpack .../chromium-browser_97.0.4692.71-0ubuntu0.18.04.1_amd64.deb ...\n",
            "Unpacking chromium-browser (97.0.4692.71-0ubuntu0.18.04.1) ...\n"
          ]
        }
      ],
      "source": [
        "!apt install chromium-chromedriver\n",
        "!cp /usr/lib/chromium-browser/chromedriver/usr/bin\n",
        "!apt-get update"
      ]
    },
    {
      "cell_type": "code",
      "execution_count": null,
      "metadata": {
        "colab": {
          "background_save": true
        },
        "id": "aoT74v-FVuMl",
        "outputId": "39466bcc-7e61-46e9-ca60-fb19f15c7246"
      },
      "outputs": [
        {
          "name": "stdout",
          "output_type": "stream",
          "text": [
            "Ign:1 https://developer.download.nvidia.com/compute/cuda/repos/ubuntu1804/x86_64  InRelease\n",
            "Ign:2 https://developer.download.nvidia.com/compute/machine-learning/repos/ubuntu1804/x86_64  InRelease\n",
            "Hit:3 https://developer.download.nvidia.com/compute/cuda/repos/ubuntu1804/x86_64  Release\n",
            "Hit:4 https://developer.download.nvidia.com/compute/machine-learning/repos/ubuntu1804/x86_64  Release\n",
            "Hit:5 http://ppa.launchpad.net/c2d4u.team/c2d4u4.0+/ubuntu bionic InRelease\n",
            "Hit:6 http://security.ubuntu.com/ubuntu bionic-security InRelease\n",
            "Hit:7 http://archive.ubuntu.com/ubuntu bionic InRelease\n",
            "Hit:9 http://archive.ubuntu.com/ubuntu bionic-updates InRelease\n",
            "Hit:10 https://cloud.r-project.org/bin/linux/ubuntu bionic-cran40/ InRelease\n",
            "Hit:12 http://ppa.launchpad.net/cran/libgit2/ubuntu bionic InRelease\n",
            "Hit:13 http://archive.ubuntu.com/ubuntu bionic-backports InRelease\n",
            "Hit:14 http://ppa.launchpad.net/deadsnakes/ppa/ubuntu bionic InRelease\n",
            "Hit:15 http://ppa.launchpad.net/graphics-drivers/ppa/ubuntu bionic InRelease\n",
            "Reading package lists... Done\n",
            "Reading package lists... Done\n",
            "Building dependency tree       \n",
            "Reading state information... Done\n",
            "chromium-chromedriver is already the newest version (97.0.4692.71-0ubuntu0.18.04.1).\n",
            "The following packages were automatically installed and are no longer required:\n",
            "  cuda-command-line-tools-10-0 cuda-command-line-tools-10-1\n",
            "  cuda-command-line-tools-11-0 cuda-compiler-10-0 cuda-compiler-10-1\n",
            "  cuda-compiler-11-0 cuda-cuobjdump-10-0 cuda-cuobjdump-10-1\n",
            "  cuda-cuobjdump-11-0 cuda-cupti-10-0 cuda-cupti-10-1 cuda-cupti-11-0\n",
            "  cuda-cupti-dev-11-0 cuda-documentation-10-0 cuda-documentation-10-1\n",
            "  cuda-documentation-11-0 cuda-documentation-11-1 cuda-gdb-10-0 cuda-gdb-10-1\n",
            "  cuda-gdb-11-0 cuda-gpu-library-advisor-10-0 cuda-gpu-library-advisor-10-1\n",
            "  cuda-libraries-10-0 cuda-libraries-10-1 cuda-libraries-11-0\n",
            "  cuda-memcheck-10-0 cuda-memcheck-10-1 cuda-memcheck-11-0 cuda-nsight-10-0\n",
            "  cuda-nsight-10-1 cuda-nsight-11-0 cuda-nsight-11-1 cuda-nsight-compute-10-0\n",
            "  cuda-nsight-compute-10-1 cuda-nsight-compute-11-0 cuda-nsight-compute-11-1\n",
            "  cuda-nsight-systems-10-1 cuda-nsight-systems-11-0 cuda-nsight-systems-11-1\n",
            "  cuda-nvcc-10-0 cuda-nvcc-10-1 cuda-nvcc-11-0 cuda-nvdisasm-10-0\n",
            "  cuda-nvdisasm-10-1 cuda-nvdisasm-11-0 cuda-nvml-dev-10-0 cuda-nvml-dev-10-1\n",
            "  cuda-nvml-dev-11-0 cuda-nvprof-10-0 cuda-nvprof-10-1 cuda-nvprof-11-0\n",
            "  cuda-nvprune-10-0 cuda-nvprune-10-1 cuda-nvprune-11-0 cuda-nvtx-10-0\n",
            "  cuda-nvtx-10-1 cuda-nvtx-11-0 cuda-nvvp-10-0 cuda-nvvp-10-1 cuda-nvvp-11-0\n",
            "  cuda-nvvp-11-1 cuda-samples-10-0 cuda-samples-10-1 cuda-samples-11-0\n",
            "  cuda-samples-11-1 cuda-sanitizer-11-0 cuda-sanitizer-api-10-1\n",
            "  cuda-toolkit-10-0 cuda-toolkit-10-1 cuda-toolkit-11-0 cuda-toolkit-11-1\n",
            "  cuda-tools-10-0 cuda-tools-10-1 cuda-tools-11-0 cuda-tools-11-1\n",
            "  cuda-visual-tools-10-0 cuda-visual-tools-10-1 cuda-visual-tools-11-0\n",
            "  cuda-visual-tools-11-1 default-jre dkms freeglut3 freeglut3-dev\n",
            "  keyboard-configuration libargon2-0 libcap2 libcryptsetup12\n",
            "  libdevmapper1.02.1 libfontenc1 libidn11 libip4tc0 libjansson4\n",
            "  libnvidia-cfg1-510 libnvidia-common-460 libnvidia-common-510\n",
            "  libnvidia-extra-510 libnvidia-fbc1-510 libnvidia-gl-510 libpam-systemd\n",
            "  libpolkit-agent-1-0 libpolkit-backend-1-0 libpolkit-gobject-1-0 libxfont2\n",
            "  libxi-dev libxkbfile1 libxmu-dev libxmu-headers libxnvctrl0\n",
            "  nsight-compute-2020.2.1 nsight-compute-2022.1.0 nsight-systems-2020.3.2\n",
            "  nsight-systems-2020.3.4 nsight-systems-2021.5.2 nvidia-dkms-510\n",
            "  nvidia-kernel-common-510 nvidia-kernel-source-510 nvidia-modprobe\n",
            "  nvidia-settings openjdk-11-jre policykit-1 policykit-1-gnome python3-xkit\n",
            "  screen-resolution-extra systemd systemd-sysv udev x11-xkb-utils\n",
            "  xserver-common xserver-xorg-core-hwe-18.04 xserver-xorg-video-nvidia-510\n",
            "Use 'apt autoremove' to remove them.\n",
            "0 upgraded, 0 newly installed, 0 to remove and 66 not upgraded.\n",
            "cp: '/usr/lib/chromium-browser/chromedriver' and '/usr/bin/chromedriver' are the same file\n",
            "Requirement already satisfied: selenium in /usr/local/lib/python3.7/dist-packages (4.1.0)\n",
            "Requirement already satisfied: trio~=0.17 in /usr/local/lib/python3.7/dist-packages (from selenium) (0.19.0)\n",
            "Requirement already satisfied: urllib3[secure]~=1.26 in /usr/local/lib/python3.7/dist-packages (from selenium) (1.26.8)\n",
            "Requirement already satisfied: trio-websocket~=0.9 in /usr/local/lib/python3.7/dist-packages (from selenium) (0.9.2)\n",
            "Requirement already satisfied: outcome in /usr/local/lib/python3.7/dist-packages (from trio~=0.17->selenium) (1.1.0)\n",
            "Requirement already satisfied: sniffio in /usr/local/lib/python3.7/dist-packages (from trio~=0.17->selenium) (1.2.0)\n",
            "Requirement already satisfied: sortedcontainers in /usr/local/lib/python3.7/dist-packages (from trio~=0.17->selenium) (2.4.0)\n",
            "Requirement already satisfied: idna in /usr/local/lib/python3.7/dist-packages (from trio~=0.17->selenium) (2.10)\n",
            "Requirement already satisfied: attrs>=19.2.0 in /usr/local/lib/python3.7/dist-packages (from trio~=0.17->selenium) (21.4.0)\n",
            "Requirement already satisfied: async-generator>=1.9 in /usr/local/lib/python3.7/dist-packages (from trio~=0.17->selenium) (1.10)\n",
            "Requirement already satisfied: wsproto>=0.14 in /usr/local/lib/python3.7/dist-packages (from trio-websocket~=0.9->selenium) (1.0.0)\n",
            "Requirement already satisfied: certifi in /usr/local/lib/python3.7/dist-packages (from urllib3[secure]~=1.26->selenium) (2021.10.8)\n",
            "Requirement already satisfied: cryptography>=1.3.4 in /usr/local/lib/python3.7/dist-packages (from urllib3[secure]~=1.26->selenium) (36.0.1)\n",
            "Requirement already satisfied: pyOpenSSL>=0.14 in /usr/local/lib/python3.7/dist-packages (from urllib3[secure]~=1.26->selenium) (22.0.0)\n",
            "Requirement already satisfied: cffi>=1.12 in /usr/local/lib/python3.7/dist-packages (from cryptography>=1.3.4->urllib3[secure]~=1.26->selenium) (1.15.0)\n",
            "Requirement already satisfied: pycparser in /usr/local/lib/python3.7/dist-packages (from cffi>=1.12->cryptography>=1.3.4->urllib3[secure]~=1.26->selenium) (2.21)\n",
            "Requirement already satisfied: h11<1,>=0.9.0 in /usr/local/lib/python3.7/dist-packages (from wsproto>=0.14->trio-websocket~=0.9->selenium) (0.13.0)\n",
            "Requirement already satisfied: typing-extensions in /usr/local/lib/python3.7/dist-packages (from h11<1,>=0.9.0->wsproto>=0.14->trio-websocket~=0.9->selenium) (3.10.0.2)\n"
          ]
        }
      ],
      "source": [
        "!apt-get update\n",
        "!apt install chromium-chromedriver\n",
        "!cp /usr/lib/chromium-browser/chromedriver /usr/bin\n",
        "!pip install selenium\n",
        "from selenium import webdriver\n",
        "options = webdriver.ChromeOptions()\n",
        "options.add_argument('--headless')\n",
        "options.add_argument('--no-sandbox')\n",
        "options.add_argument('--disable-dev-shm-usage')"
      ]
    },
    {
      "cell_type": "code",
      "execution_count": null,
      "metadata": {
        "colab": {
          "background_save": true
        },
        "id": "vyKeC9uFVrR6"
      },
      "outputs": [],
      "source": [
        "from selenium import webdriver\n",
        "from selenium.webdriver.common.keys import Keys\n",
        "import pandas as pd"
      ]
    },
    {
      "cell_type": "code",
      "execution_count": null,
      "metadata": {
        "id": "CKG2ub2rVNno"
      },
      "outputs": [],
      "source": [
        "driver=webdriver.Chrome('chromedriver',options=options)\n",
        "from datetime import date,datetime, timedelta\n",
        "today = date.today()\n",
        "d = today.strftime(\"%m/%d/%y\")\n",
        "N = 1100\n",
        "date_N_days_ago = datetime.now() - timedelta(days=N)\n",
        "d1=date_N_days_ago.strftime(\"%m/%d/%y\")\n",
        "data=pd.DataFrame(columns=['Date','Open','High','Low','Close*','Volume(T)'])\n",
        "for i in range(0,18):\n",
        "  driver.get(\"https://www.advfn.com/stock-market/COIN/BTCUSD/historical/more-historical-data?current=\"+str(i)+\"&Date1=\"+d1+\"&Date2=\"+d)\n",
        "  date=driver.find_elements_by_xpath('//*[@id=\"content\"]/div[2]/table/tbody/tr/td[1]')\n",
        "  open=driver.find_elements_by_xpath('//*[@id=\"content\"]/div[2]/table/tbody/tr/td[5]')\n",
        "  High=driver.find_elements_by_xpath('//*[@id=\"content\"]/div[2]/table/tbody/tr/td[6]')\n",
        "  Low=driver.find_elements_by_xpath('//*[@id=\"content\"]/div[2]/table/tbody/tr/td[7]')\n",
        "  Close=driver.find_elements_by_xpath('//*[@id=\"content\"]/div[2]/table/tbody/tr/td[2]')\n",
        "  Volume=driver.find_elements_by_xpath('//*[@id=\"content\"]/div[2]/table/tbody/tr/td[8]')\n",
        "  for i in range(len(date)):\n",
        "      data=data.append({'Date':date[i].text,\n",
        "                 'Open':open[i].text,\n",
        "                 'High':High[i].text,\n",
        "                 'Low':Low[i].text,\n",
        "                 'Close*':Close[i].text,\n",
        "                  'Volume(T)':Volume[i].text}, ignore_index=True)\n"
      ]
    },
    {
      "cell_type": "code",
      "execution_count": null,
      "metadata": {
        "id": "xpPE4sguY5hu"
      },
      "outputs": [],
      "source": [
        "data"
      ]
    },
    {
      "cell_type": "code",
      "execution_count": null,
      "metadata": {
        "id": "HuZDHZ-rCxTU"
      },
      "outputs": [],
      "source": [
        "data.to_csv(\"BTC-USD.csv\")\n"
      ]
    },
    {
      "cell_type": "code",
      "execution_count": null,
      "metadata": {
        "id": "zxwDP_Yxr6Ft"
      },
      "outputs": [],
      "source": [
        "!pip install streamlit\n",
        "!pip install pyngrok\n"
      ]
    },
    {
      "cell_type": "code",
      "execution_count": null,
      "metadata": {
        "id": "plodLD0fwaYq"
      },
      "outputs": [],
      "source": [
        "!ls"
      ]
    },
    {
      "cell_type": "code",
      "execution_count": null,
      "metadata": {
        "id": "hdB2_MY1SBep"
      },
      "outputs": [],
      "source": [
        "!ngrok"
      ]
    },
    {
      "cell_type": "code",
      "execution_count": null,
      "metadata": {
        "id": "wuAdcjxHarPl"
      },
      "outputs": [],
      "source": [
        "!ngrok http foo.dev:80"
      ]
    },
    {
      "cell_type": "code",
      "execution_count": null,
      "metadata": {
        "id": "4b_oKjsmXZLf"
      },
      "outputs": [],
      "source": [
        "!ngrok http stop"
      ]
    },
    {
      "cell_type": "code",
      "execution_count": null,
      "metadata": {
        "id": "FOYjeunnXl9_"
      },
      "outputs": [],
      "source": [
        "!help"
      ]
    },
    {
      "cell_type": "code",
      "execution_count": null,
      "metadata": {
        "id": "xc9LLvdfSSPQ"
      },
      "outputs": [],
      "source": [
        "from pyngrok import ngrok\n"
      ]
    },
    {
      "cell_type": "code",
      "execution_count": null,
      "metadata": {
        "id": "Thuje-McT0tz"
      },
      "outputs": [],
      "source": [
        "!ngrok authtoken 259dh4QDq52cFmsGt9QcQ4RdRAp_2sNantsUgAvMtDx66YRXM"
      ]
    },
    {
      "cell_type": "code",
      "execution_count": null,
      "metadata": {
        "id": "ld0ziMqdT4kq"
      },
      "outputs": [],
      "source": [
        "ngrok.kill()\n"
      ]
    },
    {
      "cell_type": "code",
      "execution_count": null,
      "metadata": {
        "id": "yXQPIvYHZOcH",
        "colab": {
          "base_uri": "https://localhost:8080/"
        },
        "outputId": "66a012a8-5885-4c8a-f2ef-d56cd8b4f54a"
      },
      "outputs": [
        {
          "output_type": "stream",
          "name": "stdout",
          "text": [
            "Overwriting application.py\n"
          ]
        }
      ],
      "source": [
        "%%writefile application.py\n",
        "from pandas.core.missing import clean_fill_method\n",
        "import streamlit as st\n",
        "import seaborn as sns\n",
        "import matplotlib.pyplot as plt\n",
        "import pandas as pd\n",
        "import matplotlib.pyplot as plt\n",
        "import seaborn as sns\n",
        "import keras\n",
        "from keras.models import Sequential\n",
        "from keras.layers import Dense, Dropout\n",
        "from tensorflow.keras.optimizers import RMSprop,Adam\n",
        "from sklearn.preprocessing import StandardScaler\n",
        "import math\n",
        "from sklearn.metrics import mean_squared_error\n",
        "from sklearn import preprocessing\n",
        "import matplotlib.pyplot as plt\n",
        "import seaborn as sea\n",
        "from sklearn.decomposition import PCA \n",
        "st.set_option('deprecation.showPyplotGlobalUse', False)\n",
        "donne=pd.read_csv(\"BTC-USD.csv\")\n",
        "data = donne.iloc[: , 1:]\n",
        "import io\n",
        "sorted_data=pd.DataFrame()\n",
        "def info(df):\n",
        "    buffer = io.StringIO()\n",
        "    df.info(verbose=True,buf=buffer,null_counts=None)\n",
        "    s = buffer.getvalue()\n",
        "    st.text(s)\n",
        "    return\n",
        "def datainfo(data):\n",
        "    info(data)\n",
        "def conversion_numerique(date):\n",
        "    for j in range(date.shape[1]):\n",
        "      s=pd.Series(date.iloc[:,j])\n",
        "      for i in(range(len(s))):\n",
        "        if j==0:\n",
        "          continue\n",
        "        else:\n",
        "          s[i]=s[i].replace(',',\"\")\n",
        "    for n in range(date.shape[1]):\n",
        "        if n==0:\n",
        "          continue\n",
        "        else:\n",
        "          date.iloc[:,n]=date.iloc[:,n].astype(float)\n",
        "    data= date.astype({'Date': 'datetime64[ns]'}, copy=False)\n",
        "    df = pd.DataFrame(data)\n",
        "    st.write(datainfo(df))\n",
        "    return df\n",
        "def chart(df):\n",
        "  st.subheader('Courbes représentatives de nos variables')\n",
        "  plt.figure(figsize=(20,10))\n",
        "  plt.subplot(2,2,1)\n",
        "  plt.plot(df['Close*'], label=\"Close price\")\n",
        "  plt.legend()\n",
        "  plt.subplot(2,2,2)\n",
        "  plt.plot(df['Open'], label=\"Open price\",color='green')\n",
        "  plt.legend()\n",
        "  plt.subplot(2,2,3)\n",
        "  plt.plot(df['Low'], label=\"Low price\",color='red')\n",
        "  plt.legend()\n",
        "  plt.subplot(2,2,4)\n",
        "  plt.plot(df['High'], label=\"High price\",color='orange')\n",
        "  plt.legend()\n",
        "  st.pyplot()\n",
        "  return\n",
        "def visualisation():\n",
        "    donne=pd.read_csv(\"BTC-USD.csv\")\n",
        "    data = donne.iloc[: , 1:]    \n",
        "    st.header('Visualisation du jeu de données')\n",
        "    st.write(data)\n",
        "    st.subheader('Type de données')\n",
        "    datainfo(data)\n",
        "    st.write('on remarque que notre jeu de donnéees represente des variables de types objet donc on doit les convertir en type numériques pour pouvoir les utiliser ')\n",
        "    data_f=conversion_numerique(data)\n",
        "    #sort data by date\n",
        "    df=data_f.sort_values(by ='Date', ascending = 1)\n",
        "    sorted_data=df.set_index('Date')\n",
        "    chart(sorted_data)\n",
        "    #visualisation sous forme de boite a moustache\n",
        "    st.subheader('Boite a moustache')\n",
        "    st.subheader('Open')\n",
        "    #On affiche le boxplot associé à la variable 'Open'\n",
        "    plt.figure(figsize=(8,3))\n",
        "    sns.boxplot(sorted_data['Open'],linewidth=2)\n",
        "    st.pyplot()\n",
        "    #Low\n",
        "    st.subheader('Low')\n",
        "    #On affiche le boxplot associé à la variable 'low'\n",
        "    plt.figure(figsize=(8,3))\n",
        "    sns.boxplot(sorted_data['Low'],linewidth=2)\n",
        "    st.pyplot()\n",
        "    st.subheader('Close*')\n",
        "    #On affiche le boxplot associé à la variable 'close'\n",
        "    plt.figure(figsize=(8,3))\n",
        "    sns.boxplot(sorted_data['Close*'],linewidth=2)\n",
        "    st.pyplot()\n",
        "    st.subheader('Volume(T)')\n",
        "    #On affiche le boxplot associé à la variable 'Open'\n",
        "    plt.figure(figsize=(8,3))\n",
        "    sns.boxplot(sorted_data['Volume(T)'],linewidth=2)\n",
        "    st.pyplot()\n",
        "    st.write('Ici on remarque que la colonne voulme contient des valeurs aberrantes, ses valeurs vont etre traités dans la partie du nettoyage')\n",
        "#----------------------------Boxplot end\n",
        "    sorted_data.to_csv(\"sorted_data.csv\")\n",
        "    return \n",
        "def nettoyage():\n",
        "    df=pd.read_csv(\"sorted_data.csv\")\n",
        "    data= df.astype({'Date': 'datetime64[ns]'}, copy=False)\n",
        "    df=data\n",
        "    st.header(\"Nettoayge de données\")\n",
        "    st.subheader(\"Gestion des valeures aberrantes\")\n",
        "    st.write(\"tout d'abord on détermine les valeurs aberrantes\")\n",
        "    st.write(\"On calcule Q1\")\n",
        "    q1=df[\"Volume(T)\"].quantile(q=0.25)\n",
        "    st.write(\"Q1 = \"+str(q1))\n",
        "    st.write('On calcule Q3')\n",
        "    q3=df[\"Volume(T)\"].quantile(q=0.75)\n",
        "    st.write(\"Q3 = \"+str(q3))\n",
        "    st.write(\"On calcule l'écart interquartile (IQR)\")\n",
        "    IQR=q3-q1\n",
        "    st.write(\"IQR = \"+str(IQR))\n",
        "    st.write(\"On calcule la borne inférieure à l'aide du Q1 et de l'écart interquartile\")\n",
        "    borne_inf = max(q1-1.5*IQR,min(df['Volume(T)']))\n",
        "    st.write(\"borne_inf = \"+str(borne_inf))\n",
        "    st.write(\"On calcule la borne supérieure à l'aide du Q3 et de l'écart interquartile\")\n",
        "    borne_sup = min(q3 +1.5*IQR,max(df['Volume(T)']))\n",
        "    st.write(\"borne_sup = \"+str(borne_sup))\n",
        "    st.write(\"On garde les valeurs à l'intérieur de la borne inférieure et supérieure\")\n",
        "    df1= df[(df[\"Volume(T)\"]<=borne_sup) & (df[\"Volume(T)\"]!=min(df['Volume(T)']))]\n",
        "    st.write(df1)\n",
        "    st.write(\"boite à moustache aprés supression de valeurs aberrantes dans variable Volume\")\n",
        "    plt.figure(figsize=(8,3))\n",
        "    sns.boxplot(df1['Volume(T)'],linewidth=2)\n",
        "    st.pyplot()\n",
        "    ##############Fin gestion de valeurs aberrantes\n",
        "    #Gestion de valeurs manquantes\n",
        "    st.subheader('Valeurs Manquantes')\n",
        "    st.write(pd.DataFrame(df1.isnull().sum(),columns=['number of missing value']))\n",
        "    st.write(\"On remarque que notre jeu de données ne contient pas de valeurs manquantes\")\n",
        "    #Description des donnés\n",
        "    st.write('Description des données')\n",
        "    st.write(df1.describe())\n",
        "    #info des données\n",
        "    st.write('Informations sur les données')\n",
        "    st.write(datainfo(df1))\n",
        "    #fin nettoyage\n",
        "    cleaned_data=df1\n",
        "    cleaned_data.to_csv('cleaned_data.csv')\n",
        "    ################################################################################################\n",
        "def Prediction_sans_ACP():\n",
        "    df=pd.read_csv('cleaned_data.csv')\n",
        "    df=df.sort_values(by ='Date', ascending = 1)\n",
        "    df=df.set_index('Date')\n",
        "    df=df.iloc[:,1:6]\n",
        "    st.header(\"Prédiction Sans Réduction de dimménsionalité\")\n",
        "    st.subheader(\"Division du dataset 80% pour entrainement et 20 % pour le test\")\n",
        "    X_all=df[['Open','High','Low']]\n",
        "    Y_all=df[['Close*']]\n",
        "    X_train=X_all.iloc[:779,:]\n",
        "    Y_train=Y_all.iloc[:779,:]\n",
        "    x_test=X_all.iloc[779:,:]\n",
        "    y_test=Y_all.iloc[779:,:]\n",
        "    s=y_test\n",
        "    scaler = StandardScaler()\n",
        "    X_train = scaler.fit_transform(X_train)\n",
        "    x_test = scaler.fit_transform(x_test)\n",
        "    Y_train=scaler.fit_transform(Y_train)\n",
        "    y_test=scaler.fit_transform(y_test)\n",
        "    st.subheader(\"variables d'entrainnement centrées réduites\")\n",
        "    st.write('Variables Explicatives')\n",
        "    st.write(X_train)\n",
        "    st.write('Variable Dépendantes')\n",
        "    st.write(Y_train)\n",
        "    model =Sequential()\n",
        "    model.add(Dense(500, activation='relu', input_shape=X_train.shape[1:]))\n",
        "    model.add(Dense(500, activation='relu'))\n",
        "    model.add(Dense(500, activation='relu'))\n",
        "    model.add(Dense(1))\n",
        "    st.subheader(\"variables de test centrées réduites\")\n",
        "    st.write('Variables Explicatives')\n",
        "    st.write(x_test)\n",
        "    st.write('Variable Dépendantes')\n",
        "    st.write(y_test)\n",
        "    model.compile(loss='mse',optimizer=Adam(lr=1e-3),metrics=['mse'])\n",
        "    batch_size =88\n",
        "    epochs =100\n",
        "    st.subheader(\"Entrainement du modéle...\")\n",
        "    tr = model.fit(X_train, Y_train,batch_size=batch_size,epochs=epochs,verbose=1,validation_data=(x_test, y_test))\n",
        "    st.write(\"Prédiction du prix\")\n",
        "    y_pred = model.predict(x_test)\n",
        "    y_test=scaler.inverse_transform(y_test)\n",
        "    y_pred=scaler.inverse_transform(y_pred)\n",
        "    print('mean squared_error of testing data is: ',math.sqrt(mean_squared_error(y_test,y_pred)))\n",
        "    s['Predicted Close']=y_pred\n",
        "    g=s\n",
        "    st.write(g)\n",
        "    st.write(g.shape)\n",
        "    st.write(\"Graphe des valeurs predictives contre valeurs réeles\")\n",
        "    plt.figure(figsize=(25,10))\n",
        "    fig,ax=plt.subplots()\n",
        "    plt.title('Real Close price vs Predicted Close price for testing data')\n",
        "    plt.plot(g['Close*'], label=\"Close price\",color='red')\n",
        "    plt.plot(g['Predicted Close'], label = 'Predicted BTC Close Price')\n",
        "    plt.legend()\n",
        "    st.pyplot()\n",
        "    return\n",
        "def pred_ACP():\n",
        "    df=pd.read_csv('cleaned_data.csv')\n",
        "    df=df.sort_values(by ='Date', ascending = 1)\n",
        "    df=df.set_index('Date')\n",
        "    df=df.iloc[:,1:6]\n",
        "    st.header('Prédiction avec Réduction de dimensionnalité')\n",
        "    st.subheader('Matrice de corrélation')\n",
        "    scaler = preprocessing.StandardScaler().fit(df)\n",
        "    ACP_data=scaler.transform(df)\n",
        "    Matrix_cor=df.corr() \n",
        "    fig, ax = plt.subplots(figsize=(10,7))         \n",
        "    sea.heatmap(Matrix_cor, annot=True, linewidths=.5, ax=ax)\n",
        "    st.pyplot(fig)\n",
        "    pca = PCA(n_components=2)\n",
        "    principalComponents = pca.fit_transform(ACP_data)\n",
        "    principalDf = pd.DataFrame(data = principalComponents,columns = ['PC1','PC2'])\n",
        "    st.subheader('Nouveau jeu de données aprés ACP')\n",
        "    st.write(principalDf)\n",
        "    st.write(\"Taux d'inertie\")\n",
        "    inertie=sum(pca.explained_variance_ratio_)\n",
        "    st.write(inertie)\n",
        "    train_acp=principalDf.iloc[:779,:]\n",
        "    test_acp=principalDf.iloc[779:,:]\n",
        "    Y_all= df[['Close*']]\n",
        "    output_test=Y_all.iloc[779:,:]\n",
        "    output_test=scaler.fit_transform(output_test)\n",
        "    model_acp =Sequential()\n",
        "    model_acp.add(Dense(500, activation='relu', input_shape=train_acp.shape[1:]))\n",
        "    model_acp.add(Dense(500, activation='relu'))\n",
        "    model_acp.add(Dense(500, activation='relu'))\n",
        "    model_acp.add(Dense(1))\n",
        "    model_acp.compile(loss='mse',optimizer=Adam(lr=1e-3),metrics=['mse'])\n",
        "    batch_size = 88\n",
        "    epochs = 100\n",
        "    X_all=df[['Open','High','Low']]\n",
        "    Y_all=df[['Close*']]\n",
        "    X_train=X_all.iloc[:779,:]\n",
        "    Y_train=Y_all.iloc[:779,:]\n",
        "    x_test=X_all.iloc[779:,:]\n",
        "    y_test=Y_all.iloc[779:,:]\n",
        "    scaler = StandardScaler()\n",
        "    X_train = scaler.fit_transform(X_train)\n",
        "    x_test = scaler.fit_transform(x_test)\n",
        "    Y_train=scaler.fit_transform(Y_train)\n",
        "    y_test=scaler.fit_transform(y_test)\n",
        "    t= model_acp.fit(train_acp, Y_train,batch_size=batch_size,epochs=epochs,verbose=1,validation_data=(test_acp, output_test))\n",
        "    _pred = model_acp.predict(test_acp)\n",
        "    output_test=scaler.inverse_transform(output_test)\n",
        "    _pred=scaler.inverse_transform(_pred)\n",
        "    st.subheader('Après apprentissage on a :')\n",
        "    st.write('mean squared_error of testing data is: ',math.sqrt(mean_squared_error(output_test,_pred)))\n",
        "    k=df.iloc[779:,3:4]\n",
        "    k['predicted Close']=_pred\n",
        "    plt.figure(figsize=(15,10))\n",
        "    plt.title('Real Close price vs Predicted Close price for testing data')\n",
        "    plt.plot(k['Close*'], label=\"Close price\",color='red')\n",
        "    plt.plot(k['predicted Close'], label = 'Predicted BTC Close Price')\n",
        "    plt.legend()\n",
        "    st.pyplot(plt)\n",
        "    return\n",
        "st.sidebar.button(\"Visualisation\",on_click=visualisation)\n",
        "st.sidebar.button(\"Nettoyage\",on_click=nettoyage)\n",
        "st.sidebar.button('Prédiction sans Réduction de dimmensionnalité',on_click=Prediction_sans_ACP)\n",
        "st.sidebar.button('Prédiction avec Réduction de dimmensionnalité',on_click=pred_ACP)\n"
      ]
    },
    {
      "cell_type": "code",
      "execution_count": null,
      "metadata": {
        "id": "GoWoDFoBSgWk"
      },
      "outputs": [],
      "source": [
        "!streamlit run --server.port 80 application.py  &>/dev/null&"
      ]
    },
    {
      "cell_type": "code",
      "execution_count": null,
      "metadata": {
        "id": "ozNRMf5zweTj"
      },
      "outputs": [],
      "source": [
        "# Setup a tunnel to the streamlit port 8501\n",
        "public_ur = ngrok.connect(port=8501)"
      ]
    },
    {
      "cell_type": "code",
      "execution_count": null,
      "metadata": {
        "id": "x0bq7CsRTIb6"
      },
      "outputs": [],
      "source": [
        "public_ur"
      ]
    },
    {
      "cell_type": "code",
      "execution_count": null,
      "metadata": {
        "id": "q5QuUwRzJ7Lk"
      },
      "outputs": [],
      "source": [
        "ngrok.kill()\n",
        "ngrok.disconnect\n",
        "\n"
      ]
    }
  ],
  "metadata": {
    "colab": {
      "collapsed_sections": [],
      "name": "Scrapping.ipynb",
      "provenance": [],
      "authorship_tag": "ABX9TyNZLjVM0BZfh5+Z01X0/6pk",
      "include_colab_link": true
    },
    "kernelspec": {
      "display_name": "Python 3",
      "name": "python3"
    },
    "language_info": {
      "name": "python"
    }
  },
  "nbformat": 4,
  "nbformat_minor": 0
}